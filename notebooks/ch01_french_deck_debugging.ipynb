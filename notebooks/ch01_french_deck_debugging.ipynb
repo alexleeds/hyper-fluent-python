{
 "cells": [
  {
   "cell_type": "markdown",
   "metadata": {},
   "source": [
    "# Chapter 1: French Deck Interactive Debugging\n",
    "\n",
    "This notebook explores both the original and robust implementations of the French Deck example from Fluent Python Chapter 1 through interactive debugging and analysis.\n",
    "\n",
    "## 🎯 Learning Objectives\n",
    "\n",
    "1. **Master Python's Data Model**: Understand how `__len__` and `__getitem__` make objects sequence-like\n",
    "2. **Compare Implementations**: Analyze original vs. robust typing approaches\n",
    "3. **Interactive Debugging**: Use rich output and introspection to understand behavior\n",
    "4. **Type Safety Benefits**: See how enhanced typing catches errors at development time\n",
    "\n",
    "## 🚀 Getting Started\n",
    "\n",
    "This notebook complements the debugging scripts in `src/fluent_python/ch01_data_model/exercises/`:\n",
    "- Use this notebook for **visual exploration** and **rich output**\n",
    "- Use the standalone scripts for **step-through debugging** with `breakpoint()`\n",
    "\n",
    "> 💡 **Tip**: Run cells one by one and experiment with the code. Modify values and see what happens!\n"
   ]
  },
  {
   "cell_type": "code",
   "execution_count": 1,
   "metadata": {},
   "outputs": [
    {
     "name": "stdout",
     "output_type": "stream",
     "text": [
      "✅ Rich library loaded - enhanced output enabled\n",
      "📁 Project root: /Users/aleeds/code/hyper-fluent-python\n",
      "📁 Source path: /Users/aleeds/code/hyper-fluent-python/src\n",
      "🎯 Ready to explore Fluent Python Chapter 1!\n"
     ]
    }
   ],
   "source": [
    "# Setup imports and path\n",
    "import sys\n",
    "from pathlib import Path\n",
    "\n",
    "# Add src to path for imports\n",
    "project_root = Path.cwd().parent\n",
    "src_path = project_root / \"src\"\n",
    "if str(src_path) not in sys.path:\n",
    "    sys.path.insert(0, str(src_path))\n",
    "\n",
    "# Rich for beautiful output\n",
    "try:\n",
    "    from rich.console import Console\n",
    "    from rich.pretty import pprint\n",
    "    from rich.table import Table\n",
    "    from rich.panel import Panel\n",
    "    from rich.syntax import Syntax\n",
    "    console = Console()\n",
    "    print(\"✅ Rich library loaded - enhanced output enabled\")\n",
    "except ImportError:\n",
    "    console = None\n",
    "    print(\"⚠️ Rich not installed - using basic output\")\n",
    "    print(\"Install with: pip install rich\")\n",
    "\n",
    "print(f\"📁 Project root: {project_root}\")\n",
    "print(f\"📁 Source path: {src_path}\")\n",
    "print(\"🎯 Ready to explore Fluent Python Chapter 1!\")\n"
   ]
  },
  {
   "cell_type": "markdown",
   "metadata": {},
   "source": [
    "## 🎓 How This Notebook Complements the Debugging Scripts\n",
    "\n",
    "This notebook works alongside the dedicated debugging scripts:\n",
    "\n",
    "| Tool | Purpose | When to Use |\n",
    "|------|---------|-------------|\n",
    "| **This Notebook** | Visual exploration, rich output, experimentation | Learning concepts, quick testing, documentation |\n",
    "| **`debug_original.py`** | Step-through debugging with breakpoints | Deep understanding of execution flow |\n",
    "| **`debug_robust.py`** | Enhanced version debugging | Understanding type safety improvements |\n",
    "| **`compare_implementations.py`** | Performance analysis & comparisons | Measuring real-world differences |\n",
    "\n",
    "> 💡 **Workflow**: Start here for overview → Use scripts for deep debugging → Return here for experimentation\n",
    "\n",
    "---\n",
    "\n",
    "## Part 1: Original Implementation - Visual Exploration\n",
    "\n",
    "Let's explore the original implementation **visually** with rich output. No breakpoints - just smooth exploration!\n"
   ]
  },
  {
   "cell_type": "code",
   "execution_count": 3,
   "metadata": {},
   "outputs": [
    {
     "data": {
      "text/html": [
       "<pre style=\"white-space:pre;overflow-x:auto;line-height:normal;font-family:Menlo,'DejaVu Sans Mono',consolas,'Courier New',monospace\"><span style=\"color: #000080; text-decoration-color: #000080; font-weight: bold\">╭───────────────────────────────────╮</span>\n",
       "<span style=\"color: #000080; text-decoration-color: #000080; font-weight: bold\">│ 🃏 Original Implementation Loaded │</span>\n",
       "<span style=\"color: #000080; text-decoration-color: #000080; font-weight: bold\">╰───────────────────────────────────╯</span>\n",
       "</pre>\n"
      ],
      "text/plain": [
       "\u001b[1;34m╭───────────────────────────────────╮\u001b[0m\n",
       "\u001b[1;34m│\u001b[0m\u001b[1;34m \u001b[0m\u001b[1;34m🃏 Original Implementation Loaded\u001b[0m\u001b[1;34m \u001b[0m\u001b[1;34m│\u001b[0m\n",
       "\u001b[1;34m╰───────────────────────────────────╯\u001b[0m\n"
      ]
     },
     "metadata": {},
     "output_type": "display_data"
    },
    {
     "name": "stdout",
     "output_type": "stream",
     "text": [
      "Sample card: Card(rank='A', suit='spades')\n",
      "Card type: <class 'fluent_python.ch01_data_model.original.french_deck.Card'>\n",
      "Card fields: ('rank', 'suit')\n",
      "Access by name: rank=A, suit=spades\n",
      "Access by index: [0]=A, [1]=spades\n"
     ]
    },
    {
     "data": {
      "text/html": [
       "<pre style=\"white-space:pre;overflow-x:auto;line-height:normal;font-family:Menlo,'DejaVu Sans Mono',consolas,'Courier New',monospace\"><span style=\"font-weight: bold\">{</span>\n",
       "<span style=\"color: #7fbf7f; text-decoration-color: #7fbf7f\">│   </span><span style=\"color: #008000; text-decoration-color: #008000\">'card'</span>: <span style=\"color: #800080; text-decoration-color: #800080; font-weight: bold\">Card</span><span style=\"font-weight: bold\">(</span><span style=\"color: #808000; text-decoration-color: #808000\">rank</span>=<span style=\"color: #008000; text-decoration-color: #008000\">'A'</span>, <span style=\"color: #808000; text-decoration-color: #808000\">suit</span>=<span style=\"color: #008000; text-decoration-color: #008000\">'spades'</span><span style=\"font-weight: bold\">)</span>,\n",
       "<span style=\"color: #7fbf7f; text-decoration-color: #7fbf7f\">│   </span><span style=\"color: #008000; text-decoration-color: #008000\">'type'</span>: <span style=\"color: #008000; text-decoration-color: #008000\">'Card'</span>,\n",
       "<span style=\"color: #7fbf7f; text-decoration-color: #7fbf7f\">│   </span><span style=\"color: #008000; text-decoration-color: #008000\">'fields'</span>: <span style=\"font-weight: bold\">(</span><span style=\"color: #008000; text-decoration-color: #008000\">'rank'</span>, <span style=\"color: #008000; text-decoration-color: #008000\">'suit'</span><span style=\"font-weight: bold\">)</span>,\n",
       "<span style=\"color: #7fbf7f; text-decoration-color: #7fbf7f\">│   </span><span style=\"color: #008000; text-decoration-color: #008000\">'is_namedtuple'</span>: <span style=\"color: #00ff00; text-decoration-color: #00ff00; font-style: italic\">True</span>,\n",
       "<span style=\"color: #7fbf7f; text-decoration-color: #7fbf7f\">│   </span><span style=\"color: #008000; text-decoration-color: #008000\">'supports_indexing'</span>: <span style=\"color: #008000; text-decoration-color: #008000\">'A'</span>,\n",
       "<span style=\"color: #7fbf7f; text-decoration-color: #7fbf7f\">│   </span><span style=\"color: #008000; text-decoration-color: #008000\">'memory_size'</span>: <span style=\"color: #008080; text-decoration-color: #008080; font-weight: bold\">56</span>\n",
       "<span style=\"font-weight: bold\">}</span>\n",
       "</pre>\n"
      ],
      "text/plain": [
       "\u001b[1m{\u001b[0m\n",
       "\u001b[2;32m│   \u001b[0m\u001b[32m'card'\u001b[0m: \u001b[1;35mCard\u001b[0m\u001b[1m(\u001b[0m\u001b[33mrank\u001b[0m=\u001b[32m'A'\u001b[0m, \u001b[33msuit\u001b[0m=\u001b[32m'spades'\u001b[0m\u001b[1m)\u001b[0m,\n",
       "\u001b[2;32m│   \u001b[0m\u001b[32m'type'\u001b[0m: \u001b[32m'Card'\u001b[0m,\n",
       "\u001b[2;32m│   \u001b[0m\u001b[32m'fields'\u001b[0m: \u001b[1m(\u001b[0m\u001b[32m'rank'\u001b[0m, \u001b[32m'suit'\u001b[0m\u001b[1m)\u001b[0m,\n",
       "\u001b[2;32m│   \u001b[0m\u001b[32m'is_namedtuple'\u001b[0m: \u001b[3;92mTrue\u001b[0m,\n",
       "\u001b[2;32m│   \u001b[0m\u001b[32m'supports_indexing'\u001b[0m: \u001b[32m'A'\u001b[0m,\n",
       "\u001b[2;32m│   \u001b[0m\u001b[32m'memory_size'\u001b[0m: \u001b[1;36m56\u001b[0m\n",
       "\u001b[1m}\u001b[0m\n"
      ]
     },
     "metadata": {},
     "output_type": "display_data"
    }
   ],
   "source": [
    "# Import the original implementation\n",
    "from fluent_python.ch01_data_model.original.french_deck import (\n",
    "    Card as OriginalCard, \n",
    "    FrenchDeck as OriginalDeck,\n",
    "    spades_high\n",
    ")\n",
    "\n",
    "if console:\n",
    "    console.print(Panel.fit(\"🃏 Original Implementation Loaded\", style=\"bold blue\"))\n",
    "else:\n",
    "    print(\"=== Original Implementation Loaded ===\")\n",
    "\n",
    "# Let's examine a Card first\n",
    "sample_card = OriginalCard('A', 'spades')\n",
    "print(f\"Sample card: {sample_card}\")\n",
    "print(f\"Card type: {type(sample_card)}\")\n",
    "print(f\"Card fields: {sample_card._fields}\")\n",
    "print(f\"Access by name: rank={sample_card.rank}, suit={sample_card.suit}\")\n",
    "print(f\"Access by index: [0]={sample_card[0]}, [1]={sample_card[1]}\")\n",
    "\n",
    "# Show the Card structure\n",
    "if console:\n",
    "    pprint({\n",
    "        'card': sample_card,\n",
    "        'type': type(sample_card).__name__,\n",
    "        'fields': sample_card._fields,\n",
    "        'is_namedtuple': hasattr(sample_card, '_fields'),\n",
    "        'supports_indexing': sample_card[0],\n",
    "        'memory_size': sys.getsizeof(sample_card)\n",
    "    })\n",
    "else:\n",
    "    print(f\"Card details: {sample_card}, type: {type(sample_card).__name__}\")\n"
   ]
  },
  {
   "cell_type": "code",
   "execution_count": 7,
   "metadata": {},
   "outputs": [
    {
     "name": "stdout",
     "output_type": "stream",
     "text": [
      "Deck length: 52\n",
      "First card: Card(rank='2', suit='spades')\n",
      "Last card: Card(rank='A', suit='hearts')\n",
      "Slice of cards: [Card(rank='2', suit='spades'), Card(rank='3', suit='spades'), Card(rank='4', suit='spades')]\n"
     ]
    },
    {
     "data": {
      "text/html": [
       "<pre style=\"white-space:pre;overflow-x:auto;line-height:normal;font-family:Menlo,'DejaVu Sans Mono',consolas,'Courier New',monospace\">\n",
       "<span style=\"font-weight: bold\">Internal Structure:</span>\n",
       "</pre>\n"
      ],
      "text/plain": [
       "\n",
       "\u001b[1mInternal Structure:\u001b[0m\n"
      ]
     },
     "metadata": {},
     "output_type": "display_data"
    },
    {
     "data": {
      "text/html": [
       "<pre style=\"white-space:pre;overflow-x:auto;line-height:normal;font-family:Menlo,'DejaVu Sans Mono',consolas,'Courier New',monospace\"><span style=\"font-weight: bold\">{</span>\n",
       "<span style=\"color: #7fbf7f; text-decoration-color: #7fbf7f\">│   </span><span style=\"color: #008000; text-decoration-color: #008000\">'ranks'</span>: <span style=\"font-weight: bold\">[</span><span style=\"color: #008000; text-decoration-color: #008000\">'2'</span>, <span style=\"color: #008000; text-decoration-color: #008000\">'3'</span>, <span style=\"color: #008000; text-decoration-color: #008000\">'4'</span>, <span style=\"color: #008000; text-decoration-color: #008000\">'5'</span>, <span style=\"color: #008000; text-decoration-color: #008000\">'6'</span>, <span style=\"color: #008000; text-decoration-color: #008000\">'7'</span>, <span style=\"color: #008000; text-decoration-color: #008000\">'8'</span>, <span style=\"color: #008000; text-decoration-color: #008000\">'9'</span>, <span style=\"color: #008000; text-decoration-color: #008000\">'10'</span>, <span style=\"color: #008000; text-decoration-color: #008000\">'J'</span>, <span style=\"color: #008000; text-decoration-color: #008000\">'Q'</span>, <span style=\"color: #008000; text-decoration-color: #008000\">'K'</span>, <span style=\"color: #008000; text-decoration-color: #008000\">'A'</span><span style=\"font-weight: bold\">]</span>,\n",
       "<span style=\"color: #7fbf7f; text-decoration-color: #7fbf7f\">│   </span><span style=\"color: #008000; text-decoration-color: #008000\">'suits'</span>: <span style=\"font-weight: bold\">[</span><span style=\"color: #008000; text-decoration-color: #008000\">'spades'</span>, <span style=\"color: #008000; text-decoration-color: #008000\">'diamonds'</span>, <span style=\"color: #008000; text-decoration-color: #008000\">'clubs'</span>, <span style=\"color: #008000; text-decoration-color: #008000\">'hearts'</span><span style=\"font-weight: bold\">]</span>,\n",
       "<span style=\"color: #7fbf7f; text-decoration-color: #7fbf7f\">│   </span><span style=\"color: #008000; text-decoration-color: #008000\">'total_cards'</span>: <span style=\"color: #008080; text-decoration-color: #008080; font-weight: bold\">52</span>,\n",
       "<span style=\"color: #7fbf7f; text-decoration-color: #7fbf7f\">│   </span><span style=\"color: #008000; text-decoration-color: #008000\">'first_few'</span>: <span style=\"font-weight: bold\">[</span><span style=\"color: #800080; text-decoration-color: #800080; font-weight: bold\">Card</span><span style=\"font-weight: bold\">(</span><span style=\"color: #808000; text-decoration-color: #808000\">rank</span>=<span style=\"color: #008000; text-decoration-color: #008000\">'2'</span>, <span style=\"color: #808000; text-decoration-color: #808000\">suit</span>=<span style=\"color: #008000; text-decoration-color: #008000\">'spades'</span><span style=\"font-weight: bold\">)</span>, <span style=\"color: #800080; text-decoration-color: #800080; font-weight: bold\">Card</span><span style=\"font-weight: bold\">(</span><span style=\"color: #808000; text-decoration-color: #808000\">rank</span>=<span style=\"color: #008000; text-decoration-color: #008000\">'3'</span>, <span style=\"color: #808000; text-decoration-color: #808000\">suit</span>=<span style=\"color: #008000; text-decoration-color: #008000\">'spades'</span><span style=\"font-weight: bold\">)</span>, <span style=\"color: #800080; text-decoration-color: #800080; font-weight: bold\">Card</span><span style=\"font-weight: bold\">(</span><span style=\"color: #808000; text-decoration-color: #808000\">rank</span>=<span style=\"color: #008000; text-decoration-color: #008000\">'4'</span>, <span style=\"color: #808000; text-decoration-color: #808000\">suit</span>=<span style=\"color: #008000; text-decoration-color: #008000\">'spades'</span><span style=\"font-weight: bold\">)]</span>,\n",
       "<span style=\"color: #7fbf7f; text-decoration-color: #7fbf7f\">│   </span><span style=\"color: #008000; text-decoration-color: #008000\">'deck_memory'</span>: <span style=\"color: #008080; text-decoration-color: #008080; font-weight: bold\">472</span>\n",
       "<span style=\"font-weight: bold\">}</span>\n",
       "</pre>\n"
      ],
      "text/plain": [
       "\u001b[1m{\u001b[0m\n",
       "\u001b[2;32m│   \u001b[0m\u001b[32m'ranks'\u001b[0m: \u001b[1m[\u001b[0m\u001b[32m'2'\u001b[0m, \u001b[32m'3'\u001b[0m, \u001b[32m'4'\u001b[0m, \u001b[32m'5'\u001b[0m, \u001b[32m'6'\u001b[0m, \u001b[32m'7'\u001b[0m, \u001b[32m'8'\u001b[0m, \u001b[32m'9'\u001b[0m, \u001b[32m'10'\u001b[0m, \u001b[32m'J'\u001b[0m, \u001b[32m'Q'\u001b[0m, \u001b[32m'K'\u001b[0m, \u001b[32m'A'\u001b[0m\u001b[1m]\u001b[0m,\n",
       "\u001b[2;32m│   \u001b[0m\u001b[32m'suits'\u001b[0m: \u001b[1m[\u001b[0m\u001b[32m'spades'\u001b[0m, \u001b[32m'diamonds'\u001b[0m, \u001b[32m'clubs'\u001b[0m, \u001b[32m'hearts'\u001b[0m\u001b[1m]\u001b[0m,\n",
       "\u001b[2;32m│   \u001b[0m\u001b[32m'total_cards'\u001b[0m: \u001b[1;36m52\u001b[0m,\n",
       "\u001b[2;32m│   \u001b[0m\u001b[32m'first_few'\u001b[0m: \u001b[1m[\u001b[0m\u001b[1;35mCard\u001b[0m\u001b[1m(\u001b[0m\u001b[33mrank\u001b[0m=\u001b[32m'2'\u001b[0m, \u001b[33msuit\u001b[0m=\u001b[32m'spades'\u001b[0m\u001b[1m)\u001b[0m, \u001b[1;35mCard\u001b[0m\u001b[1m(\u001b[0m\u001b[33mrank\u001b[0m=\u001b[32m'3'\u001b[0m, \u001b[33msuit\u001b[0m=\u001b[32m'spades'\u001b[0m\u001b[1m)\u001b[0m, \u001b[1;35mCard\u001b[0m\u001b[1m(\u001b[0m\u001b[33mrank\u001b[0m=\u001b[32m'4'\u001b[0m, \u001b[33msuit\u001b[0m=\u001b[32m'spades'\u001b[0m\u001b[1m)\u001b[0m\u001b[1m]\u001b[0m,\n",
       "\u001b[2;32m│   \u001b[0m\u001b[32m'deck_memory'\u001b[0m: \u001b[1;36m472\u001b[0m\n",
       "\u001b[1m}\u001b[0m\n"
      ]
     },
     "metadata": {},
     "output_type": "display_data"
    },
    {
     "name": "stdout",
     "output_type": "stream",
     "text": [
      "\n",
      "🪄 Python Data Model Magic:\n",
      "len(deck) calls deck.__len__(): 52\n",
      "deck[0] calls deck.__getitem__(0): Card(rank='2', suit='spades')\n",
      "deck[-1] calls deck.__getitem__(-1): Card(rank='A', suit='hearts')\n",
      "\n",
      "Deck methods: ['ranks', 'suits']\n",
      "Special methods: []\n"
     ]
    }
   ],
   "source": [
    "# Now let's explore the FrenchDeck\n",
    "original_deck = OriginalDeck()\n",
    "\n",
    "print(f\"Deck length: {len(original_deck)}\")\n",
    "print(f\"First card: {original_deck[0]}\")\n",
    "print(f\"Last card: {original_deck[-1]}\")\n",
    "print(f\"Slice of cards: {original_deck[:3]}\")\n",
    "\n",
    "# Show the internal structure\n",
    "if console:\n",
    "    console.print(\"\\n[bold]Internal Structure:[/bold]\")\n",
    "    pprint({\n",
    "        'ranks': OriginalDeck.ranks,\n",
    "        'suits': OriginalDeck.suits,\n",
    "        'total_cards': len(original_deck),\n",
    "        'first_few': original_deck._cards[:3],\n",
    "        'deck_memory': sys.getsizeof(original_deck._cards)\n",
    "    })\n",
    "else:\n",
    "    print(f\"Ranks: {OriginalDeck.ranks}\")\n",
    "    print(f\"Suits: {OriginalDeck.suits}\")\n",
    "    print(f\"First few cards: {original_deck._cards[:3]}\")\n",
    "\n",
    "# Demonstrate the magic of Python's data model\n",
    "print(f\"\\n🪄 Python Data Model Magic:\")\n",
    "print(f\"len(deck) calls deck.__len__(): {len(original_deck)}\")\n",
    "print(f\"deck[0] calls deck.__getitem__(0): {original_deck[0]}\")\n",
    "print(f\"deck[-1] calls deck.__getitem__(-1): {original_deck[-1]}\")\n",
    "\n",
    "# Show available methods\n",
    "print(f\"\\nDeck methods: {[m for m in dir(original_deck) if not m.startswith('_')]}\")\n",
    "print(f\"Special methods: {[m for m in dir(original_deck) if m.startswith('__') and not m.endswith('__')]}\")\n"
   ]
  },
  {
   "cell_type": "code",
   "execution_count": 8,
   "metadata": {},
   "outputs": [
    {
     "data": {
      "text/html": [
       "<pre style=\"white-space:pre;overflow-x:auto;line-height:normal;font-family:Menlo,'DejaVu Sans Mono',consolas,'Courier New',monospace\"><span style=\"color: #008000; text-decoration-color: #008000; font-weight: bold\">╭────────────────────────────╮</span>\n",
       "<span style=\"color: #008000; text-decoration-color: #008000; font-weight: bold\">│ 🪄 Python Data Model Magic │</span>\n",
       "<span style=\"color: #008000; text-decoration-color: #008000; font-weight: bold\">╰────────────────────────────╯</span>\n",
       "</pre>\n"
      ],
      "text/plain": [
       "\u001b[1;32m╭────────────────────────────╮\u001b[0m\n",
       "\u001b[1;32m│\u001b[0m\u001b[1;32m \u001b[0m\u001b[1;32m🪄 Python Data Model Magic\u001b[0m\u001b[1;32m \u001b[0m\u001b[1;32m│\u001b[0m\n",
       "\u001b[1;32m╰────────────────────────────╯\u001b[0m\n"
      ]
     },
     "metadata": {},
     "output_type": "display_data"
    },
    {
     "data": {
      "text/html": [
       "<pre style=\"white-space:pre;overflow-x:auto;line-height:normal;font-family:Menlo,'DejaVu Sans Mono',consolas,'Courier New',monospace\"><span style=\"font-style: italic\">                                             Data Model Demonstrations                                             </span>\n",
       "┏━━━━━━━━━━━━━━━━━━━━━━━┳━━━━━━━━━━━━━━━━━━━━━━━━━━━━━━━━━━━━━━━━━━━━━━━━━━━━━┳━━━━━━━━━━━━━━━━━━━━━━━━━━━━━━━━━━━┓\n",
       "┃<span style=\"font-weight: bold\"> Operation             </span>┃<span style=\"font-weight: bold\"> Result                                              </span>┃<span style=\"font-weight: bold\"> What's Called                     </span>┃\n",
       "┡━━━━━━━━━━━━━━━━━━━━━━━╇━━━━━━━━━━━━━━━━━━━━━━━━━━━━━━━━━━━━━━━━━━━━━━━━━━━━━╇━━━━━━━━━━━━━━━━━━━━━━━━━━━━━━━━━━━┩\n",
       "│<span style=\"color: #008080; text-decoration-color: #008080\"> Length                </span>│<span style=\"color: #808000; text-decoration-color: #808000\"> 52                                                  </span>│<span style=\"color: #008000; text-decoration-color: #008000\"> deck.__len__()                    </span>│\n",
       "│<span style=\"color: #008080; text-decoration-color: #008080\"> Random choice         </span>│<span style=\"color: #808000; text-decoration-color: #808000\"> Card(rank='K', suit='clubs')                        </span>│<span style=\"color: #008000; text-decoration-color: #008000\"> deck.__getitem__(random_index)    </span>│\n",
       "│<span style=\"color: #008080; text-decoration-color: #008080\"> Membership test       </span>│<span style=\"color: #808000; text-decoration-color: #808000\"> True                                                </span>│<span style=\"color: #008000; text-decoration-color: #008000\"> deck.__contains__()               </span>│\n",
       "│<span style=\"color: #008080; text-decoration-color: #008080\"> Slicing works         </span>│<span style=\"color: #808000; text-decoration-color: #808000\"> [Card(rank='Q', suit='spades'), Card(rank='K',      </span>│<span style=\"color: #008000; text-decoration-color: #008000\"> deck.__getitem__(slice)           </span>│\n",
       "│<span style=\"color: #008080; text-decoration-color: #008080\">                       </span>│<span style=\"color: #808000; text-decoration-color: #808000\"> sui...                                              </span>│<span style=\"color: #008000; text-decoration-color: #008000\">                                   </span>│\n",
       "│<span style=\"color: #008080; text-decoration-color: #008080\"> First 3 via iteration </span>│<span style=\"color: #808000; text-decoration-color: #808000\"> [Card(rank='2', suit='spades'), Card(rank='3',      </span>│<span style=\"color: #008000; text-decoration-color: #008000\"> repeated deck.__getitem__() calls </span>│\n",
       "│<span style=\"color: #008080; text-decoration-color: #008080\">                       </span>│<span style=\"color: #808000; text-decoration-color: #808000\"> sui...                                              </span>│<span style=\"color: #008000; text-decoration-color: #008000\">                                   </span>│\n",
       "└───────────────────────┴─────────────────────────────────────────────────────┴───────────────────────────────────┘\n",
       "</pre>\n"
      ],
      "text/plain": [
       "\u001b[3m                                             Data Model Demonstrations                                             \u001b[0m\n",
       "┏━━━━━━━━━━━━━━━━━━━━━━━┳━━━━━━━━━━━━━━━━━━━━━━━━━━━━━━━━━━━━━━━━━━━━━━━━━━━━━┳━━━━━━━━━━━━━━━━━━━━━━━━━━━━━━━━━━━┓\n",
       "┃\u001b[1m \u001b[0m\u001b[1mOperation            \u001b[0m\u001b[1m \u001b[0m┃\u001b[1m \u001b[0m\u001b[1mResult                                             \u001b[0m\u001b[1m \u001b[0m┃\u001b[1m \u001b[0m\u001b[1mWhat's Called                    \u001b[0m\u001b[1m \u001b[0m┃\n",
       "┡━━━━━━━━━━━━━━━━━━━━━━━╇━━━━━━━━━━━━━━━━━━━━━━━━━━━━━━━━━━━━━━━━━━━━━━━━━━━━━╇━━━━━━━━━━━━━━━━━━━━━━━━━━━━━━━━━━━┩\n",
       "│\u001b[36m \u001b[0m\u001b[36mLength               \u001b[0m\u001b[36m \u001b[0m│\u001b[33m \u001b[0m\u001b[33m52                                                 \u001b[0m\u001b[33m \u001b[0m│\u001b[32m \u001b[0m\u001b[32mdeck.__len__()                   \u001b[0m\u001b[32m \u001b[0m│\n",
       "│\u001b[36m \u001b[0m\u001b[36mRandom choice        \u001b[0m\u001b[36m \u001b[0m│\u001b[33m \u001b[0m\u001b[33mCard(rank='K', suit='clubs')                       \u001b[0m\u001b[33m \u001b[0m│\u001b[32m \u001b[0m\u001b[32mdeck.__getitem__(random_index)   \u001b[0m\u001b[32m \u001b[0m│\n",
       "│\u001b[36m \u001b[0m\u001b[36mMembership test      \u001b[0m\u001b[36m \u001b[0m│\u001b[33m \u001b[0m\u001b[33mTrue                                               \u001b[0m\u001b[33m \u001b[0m│\u001b[32m \u001b[0m\u001b[32mdeck.__contains__()              \u001b[0m\u001b[32m \u001b[0m│\n",
       "│\u001b[36m \u001b[0m\u001b[36mSlicing works        \u001b[0m\u001b[36m \u001b[0m│\u001b[33m \u001b[0m\u001b[33m[Card(rank='Q', suit='spades'), Card(rank='K',     \u001b[0m\u001b[33m \u001b[0m│\u001b[32m \u001b[0m\u001b[32mdeck.__getitem__(slice)          \u001b[0m\u001b[32m \u001b[0m│\n",
       "│\u001b[36m                       \u001b[0m│\u001b[33m \u001b[0m\u001b[33msui...                                             \u001b[0m\u001b[33m \u001b[0m│\u001b[32m                                   \u001b[0m│\n",
       "│\u001b[36m \u001b[0m\u001b[36mFirst 3 via iteration\u001b[0m\u001b[36m \u001b[0m│\u001b[33m \u001b[0m\u001b[33m[Card(rank='2', suit='spades'), Card(rank='3',     \u001b[0m\u001b[33m \u001b[0m│\u001b[32m \u001b[0m\u001b[32mrepeated deck.__getitem__() calls\u001b[0m\u001b[32m \u001b[0m│\n",
       "│\u001b[36m                       \u001b[0m│\u001b[33m \u001b[0m\u001b[33msui...                                             \u001b[0m\u001b[33m \u001b[0m│\u001b[32m                                   \u001b[0m│\n",
       "└───────────────────────┴─────────────────────────────────────────────────────┴───────────────────────────────────┘\n"
      ]
     },
     "metadata": {},
     "output_type": "display_data"
    },
    {
     "name": "stdout",
     "output_type": "stream",
     "text": [
      "\n",
      "🔍 Notice: No __iter__ method needed! Python falls back to __getitem__\n"
     ]
    }
   ],
   "source": [
    "# 🎯 Demonstrate Python's Data Model in Action\n",
    "import random\n",
    "\n",
    "if console:\n",
    "    console.print(Panel.fit(\"🪄 Python Data Model Magic\", style=\"bold green\"))\n",
    "\n",
    "# These all work because of __len__ and __getitem__!\n",
    "demonstrations = [\n",
    "    (\"Length\", len(original_deck)),\n",
    "    (\"Random choice\", random.choice(original_deck)),\n",
    "    (\"Membership test\", OriginalCard('A', 'spades') in original_deck),\n",
    "    (\"Slicing works\", original_deck[10:13]),\n",
    "    (\"First 3 via iteration\", [card for i, card in enumerate(original_deck) if i < 3])\n",
    "]\n",
    "\n",
    "if console:\n",
    "    table = Table(title=\"Data Model Demonstrations\")\n",
    "    table.add_column(\"Operation\", style=\"cyan\")\n",
    "    table.add_column(\"Result\", style=\"yellow\")\n",
    "    table.add_column(\"What's Called\", style=\"green\")\n",
    "    \n",
    "    calls = [\"deck.__len__()\", \"deck.__getitem__(random_index)\", \"deck.__contains__()\", \n",
    "             \"deck.__getitem__(slice)\", \"repeated deck.__getitem__() calls\"]\n",
    "    \n",
    "    for (desc, result), call in zip(demonstrations, calls):\n",
    "        table.add_row(desc, str(result)[:50] + \"...\" if len(str(result)) > 50 else str(result), call)\n",
    "    \n",
    "    console.print(table)\n",
    "else:\n",
    "    for desc, result in demonstrations:\n",
    "        print(f\"{desc}: {result}\")\n",
    "\n",
    "print(\"\\n🔍 Notice: No __iter__ method needed! Python falls back to __getitem__\")\n"
   ]
  },
  {
   "cell_type": "markdown",
   "metadata": {},
   "source": [
    "## Part 2: Robust Implementation - Enhanced with Types\n",
    "\n",
    "Now let's explore the enhanced implementation with strong typing and see what improvements it brings.\n",
    "\n",
    "### 🚀 Quick Links to Debugging Scripts\n",
    "Before diving in, remember you can run these for detailed step-through debugging:\n",
    "\n",
    "```bash\n",
    "# Deep debugging with breakpoints\n",
    "python -m fluent_python.ch01_data_model.exercises.debug_robust\n",
    "\n",
    "# Performance comparison  \n",
    "python -m fluent_python.ch01_data_model.exercises.compare_implementations\n",
    "```\n"
   ]
  },
  {
   "cell_type": "code",
   "execution_count": 11,
   "metadata": {},
   "outputs": [
    {
     "data": {
      "text/html": [
       "<pre style=\"white-space:pre;overflow-x:auto;line-height:normal;font-family:Menlo,'DejaVu Sans Mono',consolas,'Courier New',monospace\"><span style=\"color: #008000; text-decoration-color: #008000; font-weight: bold\">╭────────────────────────────────╮</span>\n",
       "<span style=\"color: #008000; text-decoration-color: #008000; font-weight: bold\">│ 🛡️ Robust Implementation Loaded │</span>\n",
       "<span style=\"color: #008000; text-decoration-color: #008000; font-weight: bold\">╰────────────────────────────────╯</span>\n",
       "</pre>\n"
      ],
      "text/plain": [
       "\u001b[1;32m╭────────────────────────────────╮\u001b[0m\n",
       "\u001b[1;32m│\u001b[0m\u001b[1;32m \u001b[0m\u001b[1;32m🛡️ Robust Implementation Loaded\u001b[0m\u001b[1;32m \u001b[0m\u001b[1;32m│\u001b[0m\n",
       "\u001b[1;32m╰────────────────────────────────╯\u001b[0m\n"
      ]
     },
     "metadata": {},
     "output_type": "display_data"
    },
    {
     "name": "stdout",
     "output_type": "stream",
     "text": [
      "🎯 Enum Types for Type Safety:\n",
      "Rank.ACE: Rank.ACE (value: 14)\n",
      "Suit.SPADES: Suit.SPADES (value: 1)\n",
      "All ranks: [<Rank.TWO: 2>, <Rank.THREE: 3>, <Rank.FOUR: 4>, <Rank.FIVE: 5>, <Rank.SIX: 6>, <Rank.SEVEN: 7>, <Rank.EIGHT: 8>, <Rank.NINE: 9>, <Rank.TEN: 10>, <Rank.JACK: 11>, <Rank.QUEEN: 12>, <Rank.KING: 13>, <Rank.ACE: 14>]\n",
      "All suits: [<Suit.SPADES: 1>, <Suit.HEARTS: 2>, <Suit.DIAMONDS: 3>, <Suit.CLUBS: 4>]\n",
      "\n",
      "🃏 Enhanced Cards:\n",
      "Ace: Ace of Spades\n",
      "King: King of Hearts\n",
      "Ace > King: True\n",
      "String representation: Ace of Spades\n"
     ]
    },
    {
     "data": {
      "text/html": [
       "<pre style=\"white-space:pre;overflow-x:auto;line-height:normal;font-family:Menlo,'DejaVu Sans Mono',consolas,'Courier New',monospace\"><span style=\"font-weight: bold\">{</span>\n",
       "<span style=\"color: #7fbf7f; text-decoration-color: #7fbf7f\">│   </span><span style=\"color: #008000; text-decoration-color: #008000\">'card_type'</span>: <span style=\"color: #008000; text-decoration-color: #008000\">'Card'</span>,\n",
       "<span style=\"color: #7fbf7f; text-decoration-color: #7fbf7f\">│   </span><span style=\"color: #008000; text-decoration-color: #008000\">'dataclass_fields'</span>: <span style=\"font-weight: bold\">[</span><span style=\"color: #008000; text-decoration-color: #008000\">'rank'</span>, <span style=\"color: #008000; text-decoration-color: #008000\">'suit'</span><span style=\"font-weight: bold\">]</span>,\n",
       "<span style=\"color: #7fbf7f; text-decoration-color: #7fbf7f\">│   </span><span style=\"color: #008000; text-decoration-color: #008000\">'is_frozen'</span>: <span style=\"color: #00ff00; text-decoration-color: #00ff00; font-style: italic\">True</span>,\n",
       "<span style=\"color: #7fbf7f; text-decoration-color: #7fbf7f\">│   </span><span style=\"color: #008000; text-decoration-color: #008000\">'supports_ordering'</span>: <span style=\"color: #00ff00; text-decoration-color: #00ff00; font-style: italic\">True</span>,\n",
       "<span style=\"color: #7fbf7f; text-decoration-color: #7fbf7f\">│   </span><span style=\"color: #008000; text-decoration-color: #008000\">'rank_enum_type'</span>: <span style=\"color: #008000; text-decoration-color: #008000\">'Rank'</span>,\n",
       "<span style=\"color: #7fbf7f; text-decoration-color: #7fbf7f\">│   </span><span style=\"color: #008000; text-decoration-color: #008000\">'suit_enum_type'</span>: <span style=\"color: #008000; text-decoration-color: #008000\">'Suit'</span>\n",
       "<span style=\"font-weight: bold\">}</span>\n",
       "</pre>\n"
      ],
      "text/plain": [
       "\u001b[1m{\u001b[0m\n",
       "\u001b[2;32m│   \u001b[0m\u001b[32m'card_type'\u001b[0m: \u001b[32m'Card'\u001b[0m,\n",
       "\u001b[2;32m│   \u001b[0m\u001b[32m'dataclass_fields'\u001b[0m: \u001b[1m[\u001b[0m\u001b[32m'rank'\u001b[0m, \u001b[32m'suit'\u001b[0m\u001b[1m]\u001b[0m,\n",
       "\u001b[2;32m│   \u001b[0m\u001b[32m'is_frozen'\u001b[0m: \u001b[3;92mTrue\u001b[0m,\n",
       "\u001b[2;32m│   \u001b[0m\u001b[32m'supports_ordering'\u001b[0m: \u001b[3;92mTrue\u001b[0m,\n",
       "\u001b[2;32m│   \u001b[0m\u001b[32m'rank_enum_type'\u001b[0m: \u001b[32m'Rank'\u001b[0m,\n",
       "\u001b[2;32m│   \u001b[0m\u001b[32m'suit_enum_type'\u001b[0m: \u001b[32m'Suit'\u001b[0m\n",
       "\u001b[1m}\u001b[0m\n"
      ]
     },
     "metadata": {},
     "output_type": "display_data"
    }
   ],
   "source": [
    "# Import the robust implementation\n",
    "from fluent_python.ch01_data_model.robust.french_deck import (\n",
    "    Card as RobustCard,\n",
    "    FrenchDeck as RobustDeck,\n",
    "    Rank, Suit, high_card, cards_by_suit\n",
    ")\n",
    "\n",
    "if console:\n",
    "    console.print(Panel.fit(\"🛡️ Robust Implementation Loaded\", style=\"bold green\"))\n",
    "\n",
    "# Explore the enum types first\n",
    "print(\"🎯 Enum Types for Type Safety:\")\n",
    "print(f\"Rank.ACE: {Rank.ACE} (value: {Rank.ACE.value})\")\n",
    "print(f\"Suit.SPADES: {Suit.SPADES} (value: {Suit.SPADES.value})\")\n",
    "print(f\"All ranks: {list(Rank)}\")\n",
    "print(f\"All suits: {list(Suit)}\")\n",
    "\n",
    "# Create sample cards with type safety\n",
    "ace_of_spades = RobustCard(Rank.ACE, Suit.SPADES)\n",
    "king_of_hearts = RobustCard(Rank.KING, Suit.HEARTS)\n",
    "\n",
    "print(f\"\\n🃏 Enhanced Cards:\")\n",
    "print(f\"Ace: {ace_of_spades}\")\n",
    "print(f\"King: {king_of_hearts}\")\n",
    "print(f\"Ace > King: {ace_of_spades > king_of_hearts}\")\n",
    "print(f\"String representation: {str(ace_of_spades)}\")\n",
    "\n",
    "# Show enhanced features\n",
    "if console:\n",
    "    pprint({\n",
    "        'card_type': type(ace_of_spades).__name__,\n",
    "        'dataclass_fields': list(ace_of_spades.__dataclass_fields__.keys()),\n",
    "        'is_frozen': ace_of_spades.__dataclass_params__.frozen,\n",
    "        'supports_ordering': ace_of_spades.__dataclass_params__.order,\n",
    "        'rank_enum_type': type(ace_of_spades.rank).__name__,\n",
    "        'suit_enum_type': type(ace_of_spades.suit).__name__\n",
    "    })\n"
   ]
  },
  {
   "cell_type": "code",
   "execution_count": 10,
   "metadata": {},
   "outputs": [
    {
     "name": "stdout",
     "output_type": "stream",
     "text": [
      "🎴 Enhanced Deck Features:\n",
      "Length: 52\n",
      "Type: <class 'fluent_python.ch01_data_model.robust.french_deck.FrenchDeck'>\n",
      "Is a sequence: ✅\n",
      "\n",
      "♠️ Spades in deck: 13\n",
      "First 3 spades: [Card(<Rank.TWO: 2>, <Suit.SPADES: 1>), Card(<Rank.THREE: 3>, <Suit.SPADES: 1>), Card(<Rank.FOUR: 4>, <Suit.SPADES: 1>)]\n",
      "\n",
      "🏆 Highest card from [Card(<Rank.TWO: 2>, <Suit.SPADES: 1>), Card(<Rank.TWO: 2>, <Suit.HEARTS: 2>), Card(<Rank.TWO: 2>, <Suit.DIAMONDS: 3>)]: 2 of Spades\n",
      "\n",
      "🔀 Testing deck manipulation:\n",
      "Before shuffle: 2 of Spades\n",
      "After shuffle: 4 of Clubs\n",
      "Changed: ✅\n"
     ]
    }
   ],
   "source": [
    "# 🧪 Interactive Experimentation Zone\n",
    "# Try modifying these examples to see what happens!\n",
    "\n",
    "robust_deck = RobustDeck()\n",
    "\n",
    "print(\"🎴 Enhanced Deck Features:\")\n",
    "print(f\"Length: {len(robust_deck)}\")\n",
    "print(f\"Type: {type(robust_deck)}\")\n",
    "print(f\"Is a sequence: {'✅' if hasattr(robust_deck, '__getitem__') and hasattr(robust_deck, '__len__') else '❌'}\")\n",
    "\n",
    "# Test enhanced methods\n",
    "spades = cards_by_suit(robust_deck, Suit.SPADES)\n",
    "print(f\"\\n♠️ Spades in deck: {len(spades)}\")\n",
    "print(f\"First 3 spades: {spades[:3]}\")\n",
    "\n",
    "# Test utility functions\n",
    "sample_cards = [robust_deck[0], robust_deck[13], robust_deck[26]]\n",
    "highest = high_card(sample_cards)\n",
    "print(f\"\\n🏆 Highest card from {sample_cards}: {highest}\")\n",
    "\n",
    "# Test deck manipulation\n",
    "print(\"\\n🔀 Testing deck manipulation:\")\n",
    "original_first = robust_deck[0]\n",
    "robust_deck.shuffle()\n",
    "new_first = robust_deck[0]\n",
    "print(f\"Before shuffle: {original_first}\")\n",
    "print(f\"After shuffle: {new_first}\")\n",
    "print(f\"Changed: {'✅' if original_first != new_first else '❌'}\")\n",
    "\n",
    "# 🧪 TRY THIS: Modify the code above!\n",
    "# - Try different suits in cards_by_suit()\n",
    "# - Change the sample_cards selection\n",
    "# - Try sorting: robust_deck.sort(by_suit=True)\n"
   ]
  },
  {
   "cell_type": "markdown",
   "metadata": {},
   "source": [
    "## 🎓 Next Steps & Summary\n",
    "\n",
    "### What You've Learned:\n",
    "- **Original Implementation**: How Python's data model makes objects sequence-like with just `__len__` and `__getitem__`\n",
    "- **Robust Implementation**: How enums and dataclasses provide type safety and enhanced features\n",
    "- **Visual Exploration**: Rich output helps understand structure and behavior\n",
    "\n",
    "### 🚀 Ready for Deep Debugging?\n",
    "\n",
    "Now that you've explored visually, dive deeper with the debugging scripts:\n",
    "\n",
    "```bash\n",
    "# Step-through debugging with breakpoints\n",
    "python -m fluent_python.ch01_data_model.exercises.debug_original\n",
    "python -m fluent_python.ch01_data_model.exercises.debug_robust\n",
    "\n",
    "# Performance and comparison analysis  \n",
    "python -m fluent_python.ch01_data_model.exercises.compare_implementations\n",
    "```\n",
    "\n",
    "### 🧪 Keep Experimenting!\n",
    "- Modify the cells above to test different scenarios\n",
    "- Try creating your own card games using these implementations\n",
    "- Experiment with different data structures that implement `__len__` and `__getitem__`\n",
    "\n",
    "**Happy debugging! 🐍✨**\n"
   ]
  },
  {
   "cell_type": "markdown",
   "metadata": {},
   "source": []
  },
  {
   "cell_type": "markdown",
   "metadata": {},
   "source": []
  },
  {
   "cell_type": "markdown",
   "metadata": {},
   "source": []
  },
  {
   "cell_type": "markdown",
   "metadata": {},
   "source": []
  },
  {
   "cell_type": "code",
   "execution_count": null,
   "metadata": {},
   "outputs": [],
   "source": []
  }
 ],
 "metadata": {
  "kernelspec": {
   "display_name": "Python 3 (ipykernel)",
   "language": "python",
   "name": "python3"
  },
  "language_info": {
   "codemirror_mode": {
    "name": "ipython",
    "version": 3
   },
   "file_extension": ".py",
   "mimetype": "text/x-python",
   "name": "python",
   "nbconvert_exporter": "python",
   "pygments_lexer": "ipython3",
   "version": "3.10.13"
  }
 },
 "nbformat": 4,
 "nbformat_minor": 4
}
